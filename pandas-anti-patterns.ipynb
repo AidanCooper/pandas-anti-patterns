{
 "cells": [
  {
   "cell_type": "code",
   "execution_count": 1,
   "id": "5679cac9",
   "metadata": {},
   "outputs": [],
   "source": [
    "import pandas as pd\n",
    "import matplotlib.pyplot as plt\n",
    "import numpy as np"
   ]
  },
  {
   "cell_type": "markdown",
   "id": "c66c5700",
   "metadata": {},
   "source": [
    "# Netflix Data"
   ]
  },
  {
   "cell_type": "code",
   "execution_count": 2,
   "id": "103d5790",
   "metadata": {},
   "outputs": [
    {
     "name": "stdout",
     "output_type": "stream",
     "text": [
      "            id                  title   type  \\\n",
      "1519   ts38761        Another Miss Oh   SHOW   \n",
      "4942  ts225657                Halston   SHOW   \n",
      "895    tm34646             Sisterakas  MOVIE   \n",
      "5426  ts301609  Love Is Blind: Brazil   SHOW   \n",
      "2033   ts56038         Dave Chappelle   SHOW   \n",
      "\n",
      "                                            description  release_year  \\\n",
      "1519  Two women working in the same industry with th...          2016   \n",
      "4942  American fashion designer Halston skyrockets t...          2021   \n",
      "895   A man takes revenge on his sister by hiring he...          2012   \n",
      "5426  The dating experiment comes to Brazil as local...          2021   \n",
      "2033  Comedy icon Dave Chappelle makes his triumphan...          2017   \n",
      "\n",
      "     age_certification  runtime                                     genres  \\\n",
      "1519             TV-MA       69  ['drama', 'fantasy', 'romance', 'comedy']   \n",
      "4942             TV-MA       47                                  ['drama']   \n",
      "895                NaN      110                        ['drama', 'comedy']   \n",
      "5426             TV-MA       56                     ['romance', 'reality']   \n",
      "2033               NaN       60                ['comedy', 'documentation']   \n",
      "\n",
      "     production_countries  seasons     imdb_id  imdb_score  imdb_votes  \\\n",
      "1519               ['KR']      1.0   tt5679572         7.9      1769.0   \n",
      "4942               ['US']      1.0  tt10920514         7.5     14040.0   \n",
      "895                ['PH']      NaN   tt2590214         5.2       286.0   \n",
      "5426               ['BR']      1.0  tt15018224         6.1       425.0   \n",
      "2033               ['US']      1.0   tt6963504         8.7      2753.0   \n",
      "\n",
      "      tmdb_popularity  tmdb_score  \n",
      "1519           22.672         8.2  \n",
      "4942           21.349         7.3  \n",
      "895             2.552         4.9  \n",
      "5426            5.109         6.4  \n",
      "2033            2.962         7.6  \n",
      "(5806, 15)\n"
     ]
    }
   ],
   "source": [
    "import pandas as pd\n",
    "\n",
    "# https://www.kaggle.com/datasets/victorsoeiro/netflix-tv-shows-and-movies\n",
    "df = pd.read_csv(\"titles.csv\")\n",
    "print(df.sample(5, random_state=0))\n",
    "print(df.shape)\n",
    "\n",
    "#             id                  title   type                                        description  release_year age_certification  runtime                                             genres production_countries  seasons     imdb_id  imdb_score  imdb_votes  tmdb_popularity  tmdb_score\n",
    "# 1519   ts38761        Another Miss Oh   SHOW  Two women working in the same industry with th...          2016             TV-MA       69          ['drama', 'fantasy', 'romance', 'comedy']               ['KR']      1.0   tt5679572         7.9      1769.0           22.672         8.2\n",
    "# 4942  ts225657                Halston   SHOW  American fashion designer Halston skyrockets t...          2021             TV-MA       47                                          ['drama']               ['US']      1.0  tt10920514         7.5     14040.0           21.349         7.3\n",
    "# 895    tm34646             Sisterakas  MOVIE  A man takes revenge on his sister by hiring he...          2012               NaN      110                                ['drama', 'comedy']               ['PH']      NaN   tt2590214         5.2       286.0            2.552         4.9\n",
    "# 5426  ts301609  Love Is Blind: Brazil   SHOW  The dating experiment comes to Brazil as local...          2021             TV-MA       56                             ['romance', 'reality']               ['BR']      1.0  tt15018224         6.1       425.0            5.109         6.4\n",
    "# 2033   ts56038         Dave Chappelle   SHOW  Comedy icon Dave Chappelle makes his triumphan...          2017               NaN       60                        ['comedy', 'documentation']               ['US']      1.0   tt6963504         8.7      2753.0            2.962         7.6\n",
    "# (5806, 15)"
   ]
  },
  {
   "cell_type": "markdown",
   "id": "77dca15d",
   "metadata": {},
   "source": [
    "# Anti-Pattern #1: Mutating instead of chaining"
   ]
  },
  {
   "cell_type": "code",
   "execution_count": 3,
   "id": "53a4d391",
   "metadata": {},
   "outputs": [
    {
     "name": "stdout",
     "output_type": "stream",
     "text": [
      "         count       mean\n",
      "seasons                  \n",
      "1.0        835  13.064671\n",
      "2.0        189  14.109524\n",
      "3.0         83  14.618072\n",
      "4.0         41  14.887805\n",
      "5.0         38  15.242105\n",
      "6.0         16  15.962500\n",
      "None\n"
     ]
    },
    {
     "name": "stderr",
     "output_type": "stream",
     "text": [
      "C:\\Users\\aidan\\AppData\\Local\\Temp/ipykernel_39788/2548868756.py:7: SettingWithCopyWarning: \n",
      "A value is trying to be set on a copy of a slice from a DataFrame.\n",
      "Try using .loc[row_indexer,col_indexer] = value instead\n",
      "\n",
      "See the caveats in the documentation: https://pandas.pydata.org/pandas-docs/stable/user_guide/indexing.html#returning-a-view-versus-a-copy\n",
      "  df_bad[\"score\"] = df_bad[[\"imdb_score\", \"tmdb_score\"]].sum(axis=1)\n"
     ]
    }
   ],
   "source": [
    "import pandas as pd\n",
    "\n",
    "df = pd.read_csv(\"titles.csv\")\n",
    "\n",
    "# Mutation - DON'T DO THIS\n",
    "df_bad = df.query(\"runtime > 30 & type == 'SHOW'\")\n",
    "df_bad[\"score\"] = df_bad[[\"imdb_score\", \"tmdb_score\"]].sum(axis=1)\n",
    "df_bad = df_bad[[\"seasons\", \"score\"]]\n",
    "df_bad = df_bad.groupby(\"seasons\").agg([\"count\", \"mean\"])\n",
    "df_bad = df_bad.droplevel(axis=1, level=0)\n",
    "df_bad = df_bad.query(\"count > 10\")\n",
    "\n",
    "# Chaining - DO THIS\n",
    "# fmt: off\n",
    "df_good = (df\n",
    "    .query(\"runtime > 30 & type == 'SHOW'\")\n",
    "    .assign(score=lambda df_: df_[[\"imdb_score\", \"tmdb_score\"]].sum(axis=1))\n",
    "    [[\"seasons\", \"score\"]]\n",
    "    .groupby(\"seasons\")\n",
    "    .agg([\"count\", \"mean\"])\n",
    "    .droplevel(axis=1, level=0)\n",
    "    .query(\"count > 10\")\n",
    ")\n",
    "# fmt: on\n",
    "\n",
    "print(df_good)\n",
    "print(pd.testing.assert_frame_equal(df_bad, df_good))\n",
    "\n",
    "# returns:\n",
    "#          count       mean\n",
    "# seasons\n",
    "# 1.0        835  13.064671\n",
    "# 2.0        189  14.109524\n",
    "# 3.0         83  14.618072\n",
    "# 4.0         41  14.887805\n",
    "# 5.0         38  15.242105\n",
    "# 6.0         16  15.962500"
   ]
  },
  {
   "cell_type": "code",
   "execution_count": 4,
   "id": "e7fec9c1",
   "metadata": {},
   "outputs": [
    {
     "name": "stdout",
     "output_type": "stream",
     "text": [
      "3052    ['CA', 'JP', 'US']\n",
      "1962                ['US']\n",
      "2229                ['GB']\n",
      "2151          ['KH', 'US']\n",
      "3623                ['ES']\n",
      "Name: production_countries, dtype: object\n",
      "     prod_country1 prod_country2 prod_country3\n",
      "3052            CA            JP            US\n",
      "1962            US          None          None\n",
      "2229            GB          None          None\n",
      "2151            KH            US          None\n",
      "3623            ES          None          None\n"
     ]
    }
   ],
   "source": [
    "import pandas as pd\n",
    "\n",
    "df = pd.read_csv(\"titles.csv\")\n",
    "\n",
    "def split_prod_countries(df_):\n",
    "    # split `production_countries` column (containing lists of country\n",
    "    # strings) into three individual columns of single country strings\n",
    "    dfc = pd.DataFrame(df_[\"production_countries\"].apply(eval).to_list())\n",
    "    dfc = dfc.iloc[:, :3]\n",
    "    dfc.columns = [\"prod_country1\", \"prod_country2\", \"prod_country3\"]\n",
    "    return df_.drop(\"production_countries\", axis=1).join(dfc)\n",
    "\n",
    "df_pipe = df.pipe(split_prod_countries)\n",
    "\n",
    "print(df[\"production_countries\"].sample(5, random_state=14))\n",
    "# returns:\n",
    "# 3052    ['CA', 'JP', 'US']\n",
    "# 1962                ['US']\n",
    "# 2229                ['GB']\n",
    "# 2151          ['KH', 'US']\n",
    "# 3623                ['ES']\n",
    "\n",
    "print(df_pipe.sample(5, random_state=14).iloc[:, -3:])\n",
    "# returns:\n",
    "#      prod_country1 prod_country2 prod_country3\n",
    "# 3052            CA            JP            US\n",
    "# 1962            US          None          None\n",
    "# 2229            GB          None          None\n",
    "# 2151            KH            US          None\n",
    "# 3623            ES          None          None"
   ]
  },
  {
   "cell_type": "markdown",
   "id": "95ae4912",
   "metadata": {},
   "source": [
    "# Anti-Pattern #2: Using `for` loops with pandas dataframes"
   ]
  },
  {
   "cell_type": "code",
   "execution_count": 5,
   "id": "5f8de14b",
   "metadata": {},
   "outputs": [
    {
     "name": "stdout",
     "output_type": "stream",
     "text": [
      "     prod_country1 prod_country2 prod_country3 prod_country_rank\n",
      "3052            CA            JP            US             top10\n",
      "1962            US          None          None              top3\n",
      "2229            GB          None          None              top3\n",
      "2151            KH            US          None             other\n",
      "3623            ES          None          None             top10\n"
     ]
    }
   ],
   "source": [
    "import pandas as pd\n",
    "\n",
    "df = pd.read_csv(\"titles.csv\").pipe(split_prod_countries)\n",
    "\n",
    "# obtain country ranks\n",
    "vcs = df[\"prod_country1\"].value_counts()\n",
    "top3 = vcs.index[:3]\n",
    "top10 = vcs.index[:10]\n",
    "top20 = vcs.index[:20]\n",
    "\n",
    "# Looping - DON'T DO THIS\n",
    "vals = []\n",
    "for ind, row in df.iterrows():\n",
    "    country = row[\"prod_country1\"]\n",
    "    if country in top3:\n",
    "        vals.append(\"top3\")\n",
    "    elif country in top10:\n",
    "        vals.append(\"top10\")\n",
    "    elif country in top20:\n",
    "        vals.append(\"top20\")\n",
    "    else:\n",
    "        vals.append(\"other\")\n",
    "df[\"prod_country_rank\"] = vals\n",
    "\n",
    "# df[col].apply() - DO THIS\n",
    "def get_prod_country_rank(country):\n",
    "    if country in top3:\n",
    "        return \"top3\"\n",
    "    elif country in top10:\n",
    "        return \"top10\"\n",
    "    elif country in top20:\n",
    "        return \"top20\"\n",
    "    else:\n",
    "        return \"other\"\n",
    "\n",
    "df[\"prod_country_rank\"] = df[\"prod_country1\"].apply(get_prod_country_rank)\n",
    "print(df.sample(5, random_state=14).iloc[:, -4:])\n",
    "# returns:\n",
    "#      prod_country1 prod_country2 prod_country3 prod_country_rank\n",
    "# 3052            CA            JP            US             top10\n",
    "# 1962            US          None          None              top3\n",
    "# 2229            GB          None          None              top3\n",
    "# 2151            KH            US          None             other\n",
    "# 3623            ES          None          None             top10"
   ]
  },
  {
   "cell_type": "markdown",
   "id": "944872ee",
   "metadata": {},
   "source": [
    "## Looping: `df.iterrows()`"
   ]
  },
  {
   "cell_type": "code",
   "execution_count": 6,
   "id": "1fea2b40",
   "metadata": {},
   "outputs": [],
   "source": [
    "import pandas as pd\n",
    "\n",
    "df = pd.read_csv(\"titles.csv\").pipe(split_prod_countries)"
   ]
  },
  {
   "cell_type": "code",
   "execution_count": 7,
   "id": "7007d553",
   "metadata": {},
   "outputs": [
    {
     "name": "stdout",
     "output_type": "stream",
     "text": [
      "1519    top10\n",
      "4942     top3\n",
      "895     top20\n",
      "5426    top10\n",
      "2033     top3\n",
      "Name: prod_country_rank, dtype: object\n",
      "Wall time: 333 ms\n"
     ]
    }
   ],
   "source": [
    "%%time\n",
    "\n",
    "vcs = df[\"prod_country1\"].value_counts()\n",
    "top3 = vcs.index[:3]\n",
    "top10 = vcs.index[:10]\n",
    "top20 = vcs.index[:20]\n",
    "\n",
    "vals = []\n",
    "for ind, row in df.iterrows():\n",
    "    country = row[\"prod_country1\"]\n",
    "    if country in top3:\n",
    "        vals.append(\"top3\")\n",
    "    elif country in top10:\n",
    "        vals.append(\"top10\")\n",
    "    elif country in top20:\n",
    "        vals.append(\"top20\")\n",
    "    else:\n",
    "        vals.append(\"other\")\n",
    "df = df.assign(prod_country_rank=vals)\n",
    "print(df[\"prod_country_rank\"].sample(5, random_state=0))\n",
    "\n",
    "# 1519    top10\n",
    "# 4942     top3\n",
    "# 895     top20\n",
    "# 5426    top10\n",
    "# 2033     top3\n",
    "# Name: prod_country_rank, dtype: object\n",
    "# CPU times: total: 141 ms\n",
    "# Wall time: 139 ms"
   ]
  },
  {
   "cell_type": "markdown",
   "id": "845f6ce3",
   "metadata": {},
   "source": [
    "## `df[col].apply()`"
   ]
  },
  {
   "cell_type": "code",
   "execution_count": 8,
   "id": "365d5e44",
   "metadata": {},
   "outputs": [],
   "source": [
    "import pandas as pd\n",
    "\n",
    "df = pd.read_csv(\"titles.csv\").pipe(split_prod_countries)"
   ]
  },
  {
   "cell_type": "code",
   "execution_count": 9,
   "id": "b6d499f9",
   "metadata": {},
   "outputs": [
    {
     "name": "stdout",
     "output_type": "stream",
     "text": [
      "1519    top10\n",
      "4942     top3\n",
      "895     top20\n",
      "5426    top10\n",
      "2033     top3\n",
      "Name: prod_country_rank, dtype: object\n",
      "Wall time: 18 ms\n"
     ]
    }
   ],
   "source": [
    "%%time\n",
    "\n",
    "vcs = df[\"prod_country1\"].value_counts()\n",
    "top3 = vcs.index[:3]\n",
    "top10 = vcs.index[:10]\n",
    "top20 = vcs.index[:20]\n",
    "\n",
    "def get_prod_country_rank(country):\n",
    "    if country in top3:\n",
    "        return \"top3\"\n",
    "    elif country in top10:\n",
    "        return \"top10\"\n",
    "    elif country in top20:\n",
    "        return \"top20\"\n",
    "    else:\n",
    "        return \"other\"\n",
    "\n",
    "df = df.assign(prod_country_rank=lambda df_: df_[\"prod_country1\"].apply(get_prod_country_rank))\n",
    "print(df[\"prod_country_rank\"].sample(5, random_state=0))\n",
    "\n",
    "# 1519    top10\n",
    "# 4942     top3\n",
    "# 895     top20\n",
    "# 5426    top10\n",
    "# 2033     top3\n",
    "# Name: prod_country_rank, dtype: object\n",
    "# CPU times: total: 15.6 ms\n",
    "# Wall time: 12 ms"
   ]
  },
  {
   "cell_type": "code",
   "execution_count": 10,
   "id": "3836f9d5",
   "metadata": {},
   "outputs": [],
   "source": [
    "def get_prod_country_rank_slow(country):\n",
    "    vcs = df[\"prod_country1\"].value_counts()\n",
    "    top3 = vcs.index[:3]\n",
    "    top10 = vcs.index[:10]\n",
    "    top20 = vcs.index[:20]\n",
    "    if country in top3:\n",
    "        return \"top3\"\n",
    "    elif country in top10:\n",
    "        return \"top10\"\n",
    "    elif country in top20:\n",
    "        return \"top20\"\n",
    "    else:\n",
    "        return \"other\""
   ]
  },
  {
   "cell_type": "code",
   "execution_count": 11,
   "id": "3a1152d6",
   "metadata": {},
   "outputs": [],
   "source": [
    "import pandas as pd\n",
    "\n",
    "df = pd.read_csv(\"titles.csv\").pipe(split_prod_countries)"
   ]
  },
  {
   "cell_type": "code",
   "execution_count": 12,
   "id": "809d62a6",
   "metadata": {},
   "outputs": [
    {
     "name": "stdout",
     "output_type": "stream",
     "text": [
      "8.32 ms ± 1.58 ms per loop (mean ± std. dev. of 7 runs, 100 loops each)\n"
     ]
    }
   ],
   "source": [
    "%timeit df.assign(prod_country_rank=lambda df_: df_[\"prod_country1\"].apply(get_prod_country_rank))"
   ]
  },
  {
   "cell_type": "code",
   "execution_count": 13,
   "id": "f20754b9",
   "metadata": {},
   "outputs": [],
   "source": [
    "import pandas as pd\n",
    "\n",
    "df = pd.read_csv(\"titles.csv\").pipe(split_prod_countries)"
   ]
  },
  {
   "cell_type": "code",
   "execution_count": 14,
   "id": "c829994a",
   "metadata": {},
   "outputs": [
    {
     "name": "stdout",
     "output_type": "stream",
     "text": [
      "2.9 s ± 34.8 ms per loop (mean ± std. dev. of 7 runs, 1 loop each)\n"
     ]
    }
   ],
   "source": [
    "%timeit df.assign(prod_country_rank=lambda df_: df_[\"prod_country1\"].apply(get_prod_country_rank_slow))"
   ]
  },
  {
   "cell_type": "markdown",
   "id": "007976c9",
   "metadata": {},
   "source": [
    "## `np.select()` + `.isin()`"
   ]
  },
  {
   "cell_type": "code",
   "execution_count": 15,
   "id": "41b3b300",
   "metadata": {},
   "outputs": [],
   "source": [
    "import pandas as pd\n",
    "\n",
    "df = pd.read_csv(\"titles.csv\").pipe(split_prod_countries)"
   ]
  },
  {
   "cell_type": "code",
   "execution_count": 16,
   "id": "51acdecf",
   "metadata": {},
   "outputs": [
    {
     "name": "stdout",
     "output_type": "stream",
     "text": [
      "1519    top10\n",
      "4942     top3\n",
      "895     top20\n",
      "5426    top10\n",
      "2033     top3\n",
      "Name: prod_country_rank, dtype: object\n",
      "Wall time: 0 ns\n"
     ]
    }
   ],
   "source": [
    "%%time\n",
    "\n",
    "def get_prod_country_rank(df_):\n",
    "    vcs = df_[\"prod_country1\"].value_counts()\n",
    "    return np.select(\n",
    "        condlist=(\n",
    "            df_[\"prod_country1\"].isin(vcs.index[:3]),\n",
    "            df_[\"prod_country1\"].isin(vcs.index[:10]),\n",
    "            df_[\"prod_country1\"].isin(vcs.index[:20]),\n",
    "        ),\n",
    "        choicelist=(\"top3\", \"top10\", \"top20\"),\n",
    "        default=\"other\"\n",
    "    )\n",
    "\n",
    "df = df.assign(prod_country_rank = lambda df_: get_prod_country_rank(df_))\n",
    "print(df[\"prod_country_rank\"].sample(5, random_state=0))\n",
    "\n",
    "# 1519    top10\n",
    "# 4942     top3\n",
    "# 895     top20\n",
    "# 5426    top10\n",
    "# 2033     top3\n",
    "# Name: prod_country_rank, dtype: object\n",
    "# CPU times: total: 0 ns\n",
    "# Wall time: 5.95 ms"
   ]
  },
  {
   "cell_type": "code",
   "execution_count": 17,
   "id": "4bd15c1b",
   "metadata": {},
   "outputs": [
    {
     "name": "stdout",
     "output_type": "stream",
     "text": [
      "3.81 ms ± 119 µs per loop (mean ± std. dev. of 7 runs, 100 loops each)\n"
     ]
    }
   ],
   "source": [
    "%timeit df.assign(prod_country_rank = lambda df_: get_prod_country_rank(df_))"
   ]
  },
  {
   "cell_type": "markdown",
   "id": "c15a680b",
   "metadata": {},
   "source": [
    "## `np.where()`"
   ]
  },
  {
   "cell_type": "code",
   "execution_count": 18,
   "id": "d5eca46f",
   "metadata": {},
   "outputs": [],
   "source": [
    "import pandas as pd\n",
    "\n",
    "df = pd.read_csv(\"titles.csv\").pipe(split_prod_countries)"
   ]
  },
  {
   "cell_type": "code",
   "execution_count": 19,
   "id": "cbd295e1",
   "metadata": {},
   "outputs": [],
   "source": [
    "df = df.assign(\n",
    "    adjusted_score=lambda df_: np.where(\n",
    "        df_[\"release_year\"] > 2016, df_[\"imdb_score\"] - 1, df_[\"imdb_score\"]\n",
    "    )\n",
    ")"
   ]
  },
  {
   "cell_type": "markdown",
   "id": "2a1e3eb4",
   "metadata": {},
   "source": [
    "# Using incorrect data types"
   ]
  },
  {
   "cell_type": "code",
   "execution_count": 20,
   "id": "9e8252fc",
   "metadata": {},
   "outputs": [],
   "source": [
    "import pandas as pd\n",
    "\n",
    "df = pd.read_csv(\"titles.csv\")\n",
    "\n",
    "df = df.assign(\n",
    "    age_certification=lambda df_: df_[\"age_certification\"].astype(\"category\")\n",
    ")"
   ]
  },
  {
   "cell_type": "markdown",
   "id": "2601074a",
   "metadata": {},
   "source": [
    "# Conclusion"
   ]
  },
  {
   "cell_type": "code",
   "execution_count": 21,
   "id": "e50960aa",
   "metadata": {},
   "outputs": [
    {
     "data": {
      "text/html": [
       "<div>\n",
       "<style scoped>\n",
       "    .dataframe tbody tr th:only-of-type {\n",
       "        vertical-align: middle;\n",
       "    }\n",
       "\n",
       "    .dataframe tbody tr th {\n",
       "        vertical-align: top;\n",
       "    }\n",
       "\n",
       "    .dataframe thead th {\n",
       "        text-align: right;\n",
       "    }\n",
       "</style>\n",
       "<table border=\"1\" class=\"dataframe\">\n",
       "  <thead>\n",
       "    <tr style=\"text-align: right;\">\n",
       "      <th></th>\n",
       "      <th>count</th>\n",
       "      <th>mean</th>\n",
       "    </tr>\n",
       "    <tr>\n",
       "      <th>rank</th>\n",
       "      <th></th>\n",
       "      <th></th>\n",
       "    </tr>\n",
       "  </thead>\n",
       "  <tbody>\n",
       "    <tr>\n",
       "      <th>top10</th>\n",
       "      <td>37</td>\n",
       "      <td>15.232432</td>\n",
       "    </tr>\n",
       "    <tr>\n",
       "      <th>other</th>\n",
       "      <td>1104</td>\n",
       "      <td>12.824819</td>\n",
       "    </tr>\n",
       "    <tr>\n",
       "      <th>top3</th>\n",
       "      <td>78</td>\n",
       "      <td>12.624359</td>\n",
       "    </tr>\n",
       "    <tr>\n",
       "      <th>top20</th>\n",
       "      <td>20</td>\n",
       "      <td>10.775000</td>\n",
       "    </tr>\n",
       "  </tbody>\n",
       "</table>\n",
       "</div>"
      ],
      "text/plain": [
       "       count       mean\n",
       "rank                   \n",
       "top10     37  15.232432\n",
       "other   1104  12.824819\n",
       "top3      78  12.624359\n",
       "top20     20  10.775000"
      ]
     },
     "execution_count": 21,
     "metadata": {},
     "output_type": "execute_result"
    }
   ],
   "source": [
    "import pandas as pd\n",
    "\n",
    "df = pd.read_csv(\"titles.csv\")\n",
    "\n",
    "def split_prod_countries(df_):\n",
    "    dfc = pd.DataFrame(df_[\"production_countries\"].apply(eval).to_list())\n",
    "    dfc = dfc.iloc[:, :3]\n",
    "    dfc.columns = [\"prod_country1\", \"prod_country2\", \"prod_country3\"]\n",
    "    return df_.drop(\"production_countries\", axis=1).join(dfc)\n",
    "\n",
    "def get_prod_country_rank(df_):\n",
    "    vcs = df_[\"prod_country1\"].value_counts()\n",
    "    return np.select(\n",
    "        condlist=(\n",
    "            df_[\"prod_country1\"].isin(vcs.index[:3]),\n",
    "            df_[\"prod_country1\"].isin(vcs.index[:10]),\n",
    "            df_[\"prod_country1\"].isin(vcs.index[:20]),\n",
    "        ),\n",
    "        choicelist=(\"top3\", \"top10\", \"top20\"),\n",
    "        default=\"other\",\n",
    "    )\n",
    "\n",
    "def get_adjusted_score(df_):\n",
    "    return np.where(\n",
    "        df_[\"release_year\"] > 2016, df_[\"imdb_score\"] - 1, df_[\"imdb_score\"]\n",
    "    )\n",
    "\n",
    "(df\n",
    "    .query(\"runtime > 30 & type == 'SHOW'\")\n",
    "    .pipe(split_prod_countries)\n",
    "    .assign(\n",
    "        imdb_score=lambda df_: get_adjusted_score(df_),\n",
    "        score=lambda df_: df_[[\"imdb_score\", \"tmdb_score\"]].sum(axis=1),\n",
    "        prod_country_rank=lambda df_: get_prod_country_rank(df_),\n",
    "        rank=lambda df_: df_[\"prod_country_rank\"].astype(\"category\")\n",
    "    )\n",
    "    [[\"rank\", \"score\"]]\n",
    "    .groupby(\"rank\")\n",
    "    .agg([\"count\", \"mean\"])\n",
    "    .droplevel(axis=1, level=0)\n",
    "    .sort_values(\"mean\", ascending=False)\n",
    ")\n",
    "\n",
    "#returns:\n",
    "#        count       mean\n",
    "# rank                   \n",
    "# top10     37  15.232432\n",
    "# other   1104  12.824819\n",
    "# top3      78  12.624359\n",
    "# top20     20  10.775000"
   ]
  },
  {
   "cell_type": "code",
   "execution_count": null,
   "id": "96f3d271",
   "metadata": {},
   "outputs": [],
   "source": []
  }
 ],
 "metadata": {
  "kernelspec": {
   "display_name": "Python 3 (ipykernel)",
   "language": "python",
   "name": "python3"
  },
  "language_info": {
   "codemirror_mode": {
    "name": "ipython",
    "version": 3
   },
   "file_extension": ".py",
   "mimetype": "text/x-python",
   "name": "python",
   "nbconvert_exporter": "python",
   "pygments_lexer": "ipython3",
   "version": "3.10.1"
  },
  "toc": {
   "base_numbering": 1,
   "nav_menu": {},
   "number_sections": true,
   "sideBar": true,
   "skip_h1_title": false,
   "title_cell": "Table of Contents",
   "title_sidebar": "Contents",
   "toc_cell": false,
   "toc_position": {},
   "toc_section_display": true,
   "toc_window_display": false
  }
 },
 "nbformat": 4,
 "nbformat_minor": 5
}
